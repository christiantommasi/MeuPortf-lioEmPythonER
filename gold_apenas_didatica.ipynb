{
  "nbformat": 4,
  "nbformat_minor": 0,
  "metadata": {
    "colab": {
      "provenance": [],
      "authorship_tag": "ABX9TyMfo9fi5igzahJ0O/MizRqj",
      "include_colab_link": true
    },
    "kernelspec": {
      "name": "python3",
      "display_name": "Python 3"
    },
    "language_info": {
      "name": "python"
    }
  },
  "cells": [
    {
      "cell_type": "markdown",
      "metadata": {
        "id": "view-in-github",
        "colab_type": "text"
      },
      "source": [
        "<a href=\"https://colab.research.google.com/github/christiantommasi/MeuPortf-lioEmPythonER/blob/main/gold_apenas_didatica.ipynb\" target=\"_parent\"><img src=\"https://colab.research.google.com/assets/colab-badge.svg\" alt=\"Open In Colab\"/></a>"
      ]
    },
    {
      "cell_type": "markdown",
      "source": [
        "Importação das bibliotecas necessárias apara análise dos dados"
      ],
      "metadata": {
        "id": "pv2BhVt5tRtK"
      }
    },
    {
      "cell_type": "code",
      "execution_count": 1,
      "metadata": {
        "id": "l3DhDZuztIvQ"
      },
      "outputs": [],
      "source": [
        "import pandas as pd\n",
        "import numpy as np\n",
        "import statistics as sts\n",
        "import matplotlib.pyplot as plt\n",
        "import seaborn as sns"
      ]
    },
    {
      "cell_type": "markdown",
      "source": [
        "Importação do arquivo para criação do dataframe"
      ],
      "metadata": {
        "id": "PXSt2MQWtV6Z"
      }
    },
    {
      "cell_type": "code",
      "source": [
        "df = pd.read_excel(\"gold.xlsx\")"
      ],
      "metadata": {
        "id": "z8gWACo7tYYn"
      },
      "execution_count": 2,
      "outputs": []
    },
    {
      "cell_type": "markdown",
      "source": [
        "Visualização do data frame"
      ],
      "metadata": {
        "id": "jVfrMkuAuPr-"
      }
    },
    {
      "cell_type": "code",
      "source": [
        "#São 1320 linhas por 7 colunas\n",
        "df.tail()"
      ],
      "metadata": {
        "colab": {
          "base_uri": "https://localhost:8080/",
          "height": 206
        },
        "id": "83UXk6TZuRFE",
        "outputId": "96a98452-bb2e-41c8-96c1-4f84beca4096"
      },
      "execution_count": null,
      "outputs": [
        {
          "output_type": "execute_result",
          "data": {
            "text/plain": [
              "                     Date     Last     Open     High      Low  Change\n",
              "1315           2025-02-10  2910.06  2892.22  2910.22  2891.19    0.61\n",
              "1316  2025-02-11 00:00:00  2898.34  2907.47  2943.25  2881.75   -0.31\n",
              "1317  2025-02-12 00:00:00  2903.66  2898.90  2909.16  2864.01    0.18\n",
              "1318  2025-02-13 00:00:00  2929.03  2904.10  2929.74  2900.20    0.87\n",
              "1319  2025-02-14 00:00:00  2883.18  2929.19  2940.23  2876.96   -1.57"
            ],
            "text/html": [
              "\n",
              "  <div id=\"df-1f5a97e0-b289-40b2-903e-ae3d298866a8\" class=\"colab-df-container\">\n",
              "    <div>\n",
              "<style scoped>\n",
              "    .dataframe tbody tr th:only-of-type {\n",
              "        vertical-align: middle;\n",
              "    }\n",
              "\n",
              "    .dataframe tbody tr th {\n",
              "        vertical-align: top;\n",
              "    }\n",
              "\n",
              "    .dataframe thead th {\n",
              "        text-align: right;\n",
              "    }\n",
              "</style>\n",
              "<table border=\"1\" class=\"dataframe\">\n",
              "  <thead>\n",
              "    <tr style=\"text-align: right;\">\n",
              "      <th></th>\n",
              "      <th>Date</th>\n",
              "      <th>Last</th>\n",
              "      <th>Open</th>\n",
              "      <th>High</th>\n",
              "      <th>Low</th>\n",
              "      <th>Change</th>\n",
              "    </tr>\n",
              "  </thead>\n",
              "  <tbody>\n",
              "    <tr>\n",
              "      <th>1315</th>\n",
              "      <td>2025-02-10</td>\n",
              "      <td>2910.06</td>\n",
              "      <td>2892.22</td>\n",
              "      <td>2910.22</td>\n",
              "      <td>2891.19</td>\n",
              "      <td>0.61</td>\n",
              "    </tr>\n",
              "    <tr>\n",
              "      <th>1316</th>\n",
              "      <td>2025-02-11 00:00:00</td>\n",
              "      <td>2898.34</td>\n",
              "      <td>2907.47</td>\n",
              "      <td>2943.25</td>\n",
              "      <td>2881.75</td>\n",
              "      <td>-0.31</td>\n",
              "    </tr>\n",
              "    <tr>\n",
              "      <th>1317</th>\n",
              "      <td>2025-02-12 00:00:00</td>\n",
              "      <td>2903.66</td>\n",
              "      <td>2898.90</td>\n",
              "      <td>2909.16</td>\n",
              "      <td>2864.01</td>\n",
              "      <td>0.18</td>\n",
              "    </tr>\n",
              "    <tr>\n",
              "      <th>1318</th>\n",
              "      <td>2025-02-13 00:00:00</td>\n",
              "      <td>2929.03</td>\n",
              "      <td>2904.10</td>\n",
              "      <td>2929.74</td>\n",
              "      <td>2900.20</td>\n",
              "      <td>0.87</td>\n",
              "    </tr>\n",
              "    <tr>\n",
              "      <th>1319</th>\n",
              "      <td>2025-02-14 00:00:00</td>\n",
              "      <td>2883.18</td>\n",
              "      <td>2929.19</td>\n",
              "      <td>2940.23</td>\n",
              "      <td>2876.96</td>\n",
              "      <td>-1.57</td>\n",
              "    </tr>\n",
              "  </tbody>\n",
              "</table>\n",
              "</div>\n",
              "    <div class=\"colab-df-buttons\">\n",
              "\n",
              "  <div class=\"colab-df-container\">\n",
              "    <button class=\"colab-df-convert\" onclick=\"convertToInteractive('df-1f5a97e0-b289-40b2-903e-ae3d298866a8')\"\n",
              "            title=\"Convert this dataframe to an interactive table.\"\n",
              "            style=\"display:none;\">\n",
              "\n",
              "  <svg xmlns=\"http://www.w3.org/2000/svg\" height=\"24px\" viewBox=\"0 -960 960 960\">\n",
              "    <path d=\"M120-120v-720h720v720H120Zm60-500h600v-160H180v160Zm220 220h160v-160H400v160Zm0 220h160v-160H400v160ZM180-400h160v-160H180v160Zm440 0h160v-160H620v160ZM180-180h160v-160H180v160Zm440 0h160v-160H620v160Z\"/>\n",
              "  </svg>\n",
              "    </button>\n",
              "\n",
              "  <style>\n",
              "    .colab-df-container {\n",
              "      display:flex;\n",
              "      gap: 12px;\n",
              "    }\n",
              "\n",
              "    .colab-df-convert {\n",
              "      background-color: #E8F0FE;\n",
              "      border: none;\n",
              "      border-radius: 50%;\n",
              "      cursor: pointer;\n",
              "      display: none;\n",
              "      fill: #1967D2;\n",
              "      height: 32px;\n",
              "      padding: 0 0 0 0;\n",
              "      width: 32px;\n",
              "    }\n",
              "\n",
              "    .colab-df-convert:hover {\n",
              "      background-color: #E2EBFA;\n",
              "      box-shadow: 0px 1px 2px rgba(60, 64, 67, 0.3), 0px 1px 3px 1px rgba(60, 64, 67, 0.15);\n",
              "      fill: #174EA6;\n",
              "    }\n",
              "\n",
              "    .colab-df-buttons div {\n",
              "      margin-bottom: 4px;\n",
              "    }\n",
              "\n",
              "    [theme=dark] .colab-df-convert {\n",
              "      background-color: #3B4455;\n",
              "      fill: #D2E3FC;\n",
              "    }\n",
              "\n",
              "    [theme=dark] .colab-df-convert:hover {\n",
              "      background-color: #434B5C;\n",
              "      box-shadow: 0px 1px 3px 1px rgba(0, 0, 0, 0.15);\n",
              "      filter: drop-shadow(0px 1px 2px rgba(0, 0, 0, 0.3));\n",
              "      fill: #FFFFFF;\n",
              "    }\n",
              "  </style>\n",
              "\n",
              "    <script>\n",
              "      const buttonEl =\n",
              "        document.querySelector('#df-1f5a97e0-b289-40b2-903e-ae3d298866a8 button.colab-df-convert');\n",
              "      buttonEl.style.display =\n",
              "        google.colab.kernel.accessAllowed ? 'block' : 'none';\n",
              "\n",
              "      async function convertToInteractive(key) {\n",
              "        const element = document.querySelector('#df-1f5a97e0-b289-40b2-903e-ae3d298866a8');\n",
              "        const dataTable =\n",
              "          await google.colab.kernel.invokeFunction('convertToInteractive',\n",
              "                                                    [key], {});\n",
              "        if (!dataTable) return;\n",
              "\n",
              "        const docLinkHtml = 'Like what you see? Visit the ' +\n",
              "          '<a target=\"_blank\" href=https://colab.research.google.com/notebooks/data_table.ipynb>data table notebook</a>'\n",
              "          + ' to learn more about interactive tables.';\n",
              "        element.innerHTML = '';\n",
              "        dataTable['output_type'] = 'display_data';\n",
              "        await google.colab.output.renderOutput(dataTable, element);\n",
              "        const docLink = document.createElement('div');\n",
              "        docLink.innerHTML = docLinkHtml;\n",
              "        element.appendChild(docLink);\n",
              "      }\n",
              "    </script>\n",
              "  </div>\n",
              "\n",
              "\n",
              "<div id=\"df-e313e653-fa46-4cbd-a798-ac7abd89b007\">\n",
              "  <button class=\"colab-df-quickchart\" onclick=\"quickchart('df-e313e653-fa46-4cbd-a798-ac7abd89b007')\"\n",
              "            title=\"Suggest charts\"\n",
              "            style=\"display:none;\">\n",
              "\n",
              "<svg xmlns=\"http://www.w3.org/2000/svg\" height=\"24px\"viewBox=\"0 0 24 24\"\n",
              "     width=\"24px\">\n",
              "    <g>\n",
              "        <path d=\"M19 3H5c-1.1 0-2 .9-2 2v14c0 1.1.9 2 2 2h14c1.1 0 2-.9 2-2V5c0-1.1-.9-2-2-2zM9 17H7v-7h2v7zm4 0h-2V7h2v10zm4 0h-2v-4h2v4z\"/>\n",
              "    </g>\n",
              "</svg>\n",
              "  </button>\n",
              "\n",
              "<style>\n",
              "  .colab-df-quickchart {\n",
              "      --bg-color: #E8F0FE;\n",
              "      --fill-color: #1967D2;\n",
              "      --hover-bg-color: #E2EBFA;\n",
              "      --hover-fill-color: #174EA6;\n",
              "      --disabled-fill-color: #AAA;\n",
              "      --disabled-bg-color: #DDD;\n",
              "  }\n",
              "\n",
              "  [theme=dark] .colab-df-quickchart {\n",
              "      --bg-color: #3B4455;\n",
              "      --fill-color: #D2E3FC;\n",
              "      --hover-bg-color: #434B5C;\n",
              "      --hover-fill-color: #FFFFFF;\n",
              "      --disabled-bg-color: #3B4455;\n",
              "      --disabled-fill-color: #666;\n",
              "  }\n",
              "\n",
              "  .colab-df-quickchart {\n",
              "    background-color: var(--bg-color);\n",
              "    border: none;\n",
              "    border-radius: 50%;\n",
              "    cursor: pointer;\n",
              "    display: none;\n",
              "    fill: var(--fill-color);\n",
              "    height: 32px;\n",
              "    padding: 0;\n",
              "    width: 32px;\n",
              "  }\n",
              "\n",
              "  .colab-df-quickchart:hover {\n",
              "    background-color: var(--hover-bg-color);\n",
              "    box-shadow: 0 1px 2px rgba(60, 64, 67, 0.3), 0 1px 3px 1px rgba(60, 64, 67, 0.15);\n",
              "    fill: var(--button-hover-fill-color);\n",
              "  }\n",
              "\n",
              "  .colab-df-quickchart-complete:disabled,\n",
              "  .colab-df-quickchart-complete:disabled:hover {\n",
              "    background-color: var(--disabled-bg-color);\n",
              "    fill: var(--disabled-fill-color);\n",
              "    box-shadow: none;\n",
              "  }\n",
              "\n",
              "  .colab-df-spinner {\n",
              "    border: 2px solid var(--fill-color);\n",
              "    border-color: transparent;\n",
              "    border-bottom-color: var(--fill-color);\n",
              "    animation:\n",
              "      spin 1s steps(1) infinite;\n",
              "  }\n",
              "\n",
              "  @keyframes spin {\n",
              "    0% {\n",
              "      border-color: transparent;\n",
              "      border-bottom-color: var(--fill-color);\n",
              "      border-left-color: var(--fill-color);\n",
              "    }\n",
              "    20% {\n",
              "      border-color: transparent;\n",
              "      border-left-color: var(--fill-color);\n",
              "      border-top-color: var(--fill-color);\n",
              "    }\n",
              "    30% {\n",
              "      border-color: transparent;\n",
              "      border-left-color: var(--fill-color);\n",
              "      border-top-color: var(--fill-color);\n",
              "      border-right-color: var(--fill-color);\n",
              "    }\n",
              "    40% {\n",
              "      border-color: transparent;\n",
              "      border-right-color: var(--fill-color);\n",
              "      border-top-color: var(--fill-color);\n",
              "    }\n",
              "    60% {\n",
              "      border-color: transparent;\n",
              "      border-right-color: var(--fill-color);\n",
              "    }\n",
              "    80% {\n",
              "      border-color: transparent;\n",
              "      border-right-color: var(--fill-color);\n",
              "      border-bottom-color: var(--fill-color);\n",
              "    }\n",
              "    90% {\n",
              "      border-color: transparent;\n",
              "      border-bottom-color: var(--fill-color);\n",
              "    }\n",
              "  }\n",
              "</style>\n",
              "\n",
              "  <script>\n",
              "    async function quickchart(key) {\n",
              "      const quickchartButtonEl =\n",
              "        document.querySelector('#' + key + ' button');\n",
              "      quickchartButtonEl.disabled = true;  // To prevent multiple clicks.\n",
              "      quickchartButtonEl.classList.add('colab-df-spinner');\n",
              "      try {\n",
              "        const charts = await google.colab.kernel.invokeFunction(\n",
              "            'suggestCharts', [key], {});\n",
              "      } catch (error) {\n",
              "        console.error('Error during call to suggestCharts:', error);\n",
              "      }\n",
              "      quickchartButtonEl.classList.remove('colab-df-spinner');\n",
              "      quickchartButtonEl.classList.add('colab-df-quickchart-complete');\n",
              "    }\n",
              "    (() => {\n",
              "      let quickchartButtonEl =\n",
              "        document.querySelector('#df-e313e653-fa46-4cbd-a798-ac7abd89b007 button');\n",
              "      quickchartButtonEl.style.display =\n",
              "        google.colab.kernel.accessAllowed ? 'block' : 'none';\n",
              "    })();\n",
              "  </script>\n",
              "</div>\n",
              "\n",
              "    </div>\n",
              "  </div>\n"
            ],
            "application/vnd.google.colaboratory.intrinsic+json": {
              "type": "dataframe",
              "repr_error": "0"
            }
          },
          "metadata": {},
          "execution_count": 9
        }
      ]
    },
    {
      "cell_type": "markdown",
      "source": [
        "Verificando o tipo de dados no data frame"
      ],
      "metadata": {
        "id": "rR65MvcsvqO4"
      }
    },
    {
      "cell_type": "code",
      "source": [
        "print(df.dtypes)"
      ],
      "metadata": {
        "id": "Uuz-KDGRvtVj"
      },
      "execution_count": null,
      "outputs": []
    },
    {
      "cell_type": "markdown",
      "source": [
        "Convertendo a coluna Date para datetime"
      ],
      "metadata": {
        "id": "V3NFAiWBwVnQ"
      }
    },
    {
      "cell_type": "code",
      "source": [
        "#Código que converte a coluna Date para date time\n",
        "df['Date'] = pd.to_datetime(df['Date'])\n",
        "\n",
        "#Código que verifica o  tipo da coluna Date novamente\n",
        "print(df['Date'].dtypes)"
      ],
      "metadata": {
        "id": "GE2IJMrUwX9u",
        "colab": {
          "base_uri": "https://localhost:8080/"
        },
        "outputId": "fb9ffa62-0e69-427f-b878-4698cf4794f7"
      },
      "execution_count": 3,
      "outputs": [
        {
          "output_type": "stream",
          "name": "stdout",
          "text": [
            "datetime64[ns]\n"
          ]
        }
      ]
    },
    {
      "cell_type": "markdown",
      "source": [
        "Verificando o tipo de dados completo do data frame"
      ],
      "metadata": {
        "id": "pqe0yzGsw9hU"
      }
    },
    {
      "cell_type": "code",
      "source": [
        "print(df.dtypes)"
      ],
      "metadata": {
        "colab": {
          "base_uri": "https://localhost:8080/"
        },
        "id": "0x70nfc4w_vO",
        "outputId": "f4869c1a-8adc-48f1-8f90-070b1d8a9912"
      },
      "execution_count": null,
      "outputs": [
        {
          "output_type": "stream",
          "name": "stdout",
          "text": [
            "Date      datetime64[ns]\n",
            "Last             float64\n",
            "Open             float64\n",
            "High             float64\n",
            "Low              float64\n",
            "Change           float64\n",
            "dtype: object\n"
          ]
        }
      ]
    },
    {
      "cell_type": "markdown",
      "source": [
        "Verificando se existem valores NANs"
      ],
      "metadata": {
        "id": "KzAcwbGVxSrj"
      }
    },
    {
      "cell_type": "code",
      "source": [
        "df.isna().sum()\n",
        "#Não existem dados NANs"
      ],
      "metadata": {
        "id": "LP1z2D1rxVCJ"
      },
      "execution_count": null,
      "outputs": []
    },
    {
      "cell_type": "markdown",
      "source": [
        "Verificação estatística dos dados"
      ],
      "metadata": {
        "id": "ulFj9lFwxb0a"
      }
    },
    {
      "cell_type": "code",
      "source": [
        "df.describe()"
      ],
      "metadata": {
        "id": "QeYxYbPdxf4q"
      },
      "execution_count": null,
      "outputs": []
    },
    {
      "cell_type": "markdown",
      "source": [
        "#Relação de retornos sobre as colunas"
      ],
      "metadata": {
        "id": "8WLVllB8xtul"
      }
    },
    {
      "cell_type": "markdown",
      "source": [
        "Coluna Open em relação a mediana e a média"
      ],
      "metadata": {
        "id": "FBoczvIMzPAV"
      }
    },
    {
      "cell_type": "code",
      "source": [
        "#Criando um data frame que armazena os últimos 55 valores do ouro\n",
        "df_provisorio = df.tail(55)\n",
        "\n",
        "#Visualizando as informações descritivas do df_provisorio\n",
        "descricoes_estatisticas = df_provisorio.describe()\n",
        "\n",
        "#descricoes_estatisticas\n",
        "\n",
        "#Criando a variável que armazena o preço médio do ouro nos últimos 55 dias de pregão\n",
        "preco_medio_open = df_provisorio['Open'].mean()\n",
        "preco_medio_last = df_provisorio['Last'].mean()\n",
        "\n",
        "#Criando a variável que armazena os valores do preço mínimo e máximo de Open e Last dos últimos 55 dias de pregão\n",
        "preco_min_open = df_provisorio['Open'].min()\n",
        "preco_max_open = df_provisorio['Open'].max()\n",
        "preco_min_last = df_provisorio['Last'].min()\n",
        "preco_max_last = df_provisorio['Last'].max()\n",
        "\n",
        "#Mudança diária média e o desvio padrão da coluna Change\n",
        "mudanca_media = df_provisorio['Change'].mean()\n",
        "mudanca_desvio = df_provisorio['Change'].std()\n",
        "\n",
        "#Valores extremos de mudança diária\n",
        "mudanca_min = df_provisorio['Change'].min()\n",
        "mudanca_max = df_provisorio['Change'].max()\n",
        "\n",
        "#Calculando o preço médio entre Open e Last\n",
        "media_open_last = (preco_medio_open + preco_medio_last) / 2\n",
        "\n",
        "#Visualizando os resultados obtidos pelas variáveis\n",
        "print(f'Esse é o preço médio da coluna Open {preco_medio_open:.2f}')\n",
        "print(f'Esse é o preço médio da coluna Last {preco_medio_last:.2f}')\n",
        "print(f'Esse é o preço mínimo da coluna Open {preco_min_open:.2f}')\n",
        "print(f'Esse é o preço máximo da coluna Open {preco_max_open:.2f}')\n",
        "print(f'Esse é o preço mínimo da coluna Last {preco_min_last:.2f}')\n",
        "print(f'Esse é o preço máximo da coluna Last {preco_max_last:.2f}')\n",
        "print(f'Essa é a mudança diária média da coluna Change {mudanca_media:.2f}')\n",
        "print(f'Esse é o desvio padrão da coluna Change {mudanca_desvio:.2f}')\n",
        "print(f'Essa é a menor variação da coluna Change {mudanca_min:.2f}')\n",
        "print(f'Essa é a maior variação da coluna Change {mudanca_max:.2f}')\n",
        "print(f'Esse é o preço médio entre Open e Last {media_open_last:.2f}')"
      ],
      "metadata": {
        "id": "efKlG8vwzRmV",
        "colab": {
          "base_uri": "https://localhost:8080/"
        },
        "outputId": "8cb824ca-f1f6-471f-d550-251f6df07784"
      },
      "execution_count": 4,
      "outputs": [
        {
          "output_type": "stream",
          "name": "stdout",
          "text": [
            "Esse é o preço médio da coluna Open 2727.09\n",
            "Esse é o preço médio da coluna Last 2731.46\n",
            "Esse é o preço mínimo da coluna Open 2586.00\n",
            "Esse é o preço máximo da coluna Open 2929.19\n",
            "Esse é o preço mínimo da coluna Last 2596.00\n",
            "Esse é o preço máximo da coluna Last 2929.03\n",
            "Essa é a mudança diária média da coluna Change 0.18\n",
            "Esse é o desvio padrão da coluna Change 0.90\n",
            "Essa é a menor variação da coluna Change -1.70\n",
            "Essa é a maior variação da coluna Change 2.29\n",
            "Esse é o preço médio entre Open e Last 2729.27\n"
          ]
        }
      ]
    },
    {
      "cell_type": "markdown",
      "source": [
        "#Analisando de forma gráfica os últimos 55 registros de pregão do ouro"
      ],
      "metadata": {
        "id": "6YHcN7S3HH6X"
      }
    },
    {
      "cell_type": "markdown",
      "source": [
        "Criando um gráfico da coluna Last"
      ],
      "metadata": {
        "id": "PoZiGNlPHMxn"
      }
    },
    {
      "cell_type": "code",
      "source": [
        "plt.figure(figsize=(12, 6))\n",
        "plt.plot(df_provisorio['Date'], df_provisorio['Last'], label='Preço de fechamento', color='gray')\n",
        "plt.xlabel('Diário')\n",
        "plt.ylabel('Preço do ouro (USD)')\n",
        "plt.title('Preço de fechamento do Ouro - 55 últimos pregões')\n",
        "plt.legend()\n",
        "plt.grid(True)\n",
        "plt.show()"
      ],
      "metadata": {
        "colab": {
          "base_uri": "https://localhost:8080/",
          "height": 522
        },
        "id": "bGILJhPvHMIe",
        "outputId": "27b13e08-09b0-42b3-d0d5-f58e096cce20"
      },
      "execution_count": 5,
      "outputs": [
        {
          "output_type": "display_data",
          "data": {
            "text/plain": [
              "<Figure size 1200x600 with 1 Axes>"
            ],
            "image/png": "[encoded data removed]"
          },
          "metadata": {}
        }
      ]
    },
    {
      "cell_type": "markdown",
      "source": [
        "Criando um gráfico boxplot"
      ],
      "metadata": {
        "id": "4TvRbAyeIgDC"
      }
    },
    {
      "cell_type": "code",
      "source": [
        "plt.figure(figsize=(12, 5))\n",
        "sns.boxplot(x=df_provisorio['Last'], color='gray')\n",
        "plt.xlabel('Preço de fechamento do ouro (USD)')\n",
        "plt.title('Boxplot do preço de fechamento do ouro')\n",
        "plt.grid(True)\n",
        "plt.show()"
      ],
      "metadata": {
        "colab": {
          "base_uri": "https://localhost:8080/",
          "height": 481
        },
        "id": "JoxCxqJyIhj5",
        "outputId": "7c3d249a-94dc-47dd-c531-cbcfd46cbf46"
      },
      "execution_count": 7,
      "outputs": [
        {
          "output_type": "display_data",
          "data": {
            "text/plain": [
              "<Figure size 1200x500 with 1 Axes>"
            ],
            "image/png": "[encoded data removed]"
          },
          "metadata": {}
        }
      ]
    },
    {
      "cell_type": "markdown",
      "source": [
        "Baixo: Até 0,5% = Pouca variação, mercado estável.\n",
        "Médio: Entre 0,5% e 1,5% = Oscilações normais para ativos consolidados.\n",
        "Alto: Acima de 1,5% = Mercado volátil, grandes oscilações diárias."
      ],
      "metadata": {
        "id": "kbIPo4zdnY4x"
      }
    },
    {
      "cell_type": "markdown",
      "source": [
        "#Observações vistas até o momento no gráfico"
      ],
      "metadata": {
        "id": "ruy11gDzn29Q"
      }
    },
    {
      "cell_type": "markdown",
      "source": [
        "O gráfico de linha, apresenta uma forte tendência de alta desde 01/01/25, mais ou menos, onde iniciou a tendência de alta, antes disso, o gráfico estava em um movimento de lateralização.\n",
        "Após o inicio da tendência de alta, o gráfico deu um boom para a alta, onde atingiu um topo na faixa dos 2920, mais ou menos, e após iniciou um reversão de tendência, não está perto de sugerir um padrão de reversão ou correção ainda de acordo com as ondas de Elliot, mas vamos acompanhando o gráfico e observando o que ele nos trás com os próximos resultados.\n",
        "No boxplot foi possível observar que os preços se concentram normalmente entre 2650 e 2800, acredito que seja esse o preço ideal do ouro e o pico que foi até 2920, mais ou menos, seja um outlier, não apresentando, necessariamente, uma disparada do preço do ouro atingindo novos patamares."
      ],
      "metadata": {
        "id": "ViC6m78bn5_N"
      }
    },
    {
      "cell_type": "markdown",
      "source": [
        "#Observações sobre os estudos"
      ],
      "metadata": {
        "id": "mzb53KnspErl"
      }
    },
    {
      "cell_type": "markdown",
      "source": [
        "Ainda estou em busca de avaliar os resultados de forma estatística e probabílistica da melhor forma que assim, possa me trazer resultados maiores e melhores, além da consistência nas aplicações no mercado Forex.\n",
        "O projeto está longe de estar completo, está em suas fases iniciais e ainda nem introduzi mineração de dados e texto através de API para buscar melhores oportunidades de entrada e saída no mercado.\n",
        "O ouro sempre será um ativo de segurança e proteção no mercado, é notado o boom dos preços desde o começo do ano quando trump assumiu e propos a tarifação dos países concorrentes, que dessa forma, pode gerar \"guerra comercial\" no mundo, trazendo tensão ao mercado e seus players.\n",
        "É fundamental, que além de sentimentos de notícias do mercado, eu aplique médias, normalização, tendências e testes de hipóteses, princípios básicos da análise quantitativa.\n",
        "\n",
        "Da primeira vez que comecei a mexer nesse sistema, eu recorri ao linkedin em busca de sugestões, mas decidi arregaçar as mangas e com pesquisas, consegui encontrar métodos que me auxiliam nessa tomada de decisão, abaixo vou listar os principais métodos que devo utilizar."
      ],
      "metadata": {
        "id": "U567E7AQpGxy"
      }
    },
    {
      "cell_type": "markdown",
      "source": [
        "#Estatística e Probabilidade"
      ],
      "metadata": {
        "id": "t3lU97yLqkfx"
      }
    },
    {
      "cell_type": "markdown",
      "source": [
        "Estatística descritiva:\n",
        "1. Média e mediana para avaliar o retorno esperado.\n",
        "2. Desvio padrão para avaliar o risco do ativo.\n",
        "3. Assimetria (Skewness) para avaliar se os retornos estão mais inclinados para alta ou queda.\n",
        "4. Curtose mede a frequência de eventos extremos (cauda gorda).\n",
        "\n",
        "Distribuições de probabilidade:\n",
        "1. Normal para avaliar aproximação de retornos financeiros\n",
        "2. Log-normal para modelagem de preços de ativos.\n",
        "3. Caudas pesadas (Pareto, Cauchy) para avaliar explicação de eventos extremos.\n",
        "4. Distribuição de retornos para modelar a probabilidade de ganhos e perdas.\n",
        "\n",
        "Processos estocásticos:\n",
        "1. Random Walk para avaliar a hipótese de mercado eficiente.\n",
        "2. Browniano Geométrico serve como base de modelo para Black-Scholes.\n",
        "3. Processo de Poisson para modelar choques súbitos no mercado.\n",
        "4. Teorema central do limite para justificar a aproximação normal dos retornos.\n",
        "\n",
        "Modelos de séries temporais:\n",
        "1. Médias móveis (SMA, EMA) indicadores de tendência.\n",
        "2. Modelos ARIMA para predição de preços baseada em padrões passados.\n",
        "3. GARCH (Generalized Autoregresive Conditional Heteroskedascity) para medir a volatibilidade futura.\n",
        "\n",
        "Inferência estatística e teste de hipótese:\n",
        "1. Teste de normalidade (Shapiro Wilk, KS-Test) para verificar se os retornos seguem uma distribuição normal.\n",
        "2. Teste de independência (Dickey-Fuller, Ljung-Box) para testar se os preços seguem um caminho aleatório.\n",
        "3. Correlação e regressão para medir a relação entre ativos.\n",
        "\n",
        "Métodos de precificação e otimização:\n",
        "1. Modelo Black-Scholes para precificação de opções com base na volatibilidade.\n",
        "2. Teoria de Portfólio de Markowitz para maximizar o retorno ajustado ao risco usando variância e covariância.\n",
        "3. Simulação de Monte Carlo para estimar distribuições de preços futuros.\n",
        "\n",
        "Estatística Bayesiana:\n",
        "1. Teorema de Bayes para atualizar probabilidades com base em novas informações, útil para prever tendências.\n",
        "2. Inferência Bayesiana para modelar incertezas e melhorar previsões em mercado dinâmicos.\n",
        "3. Redes Bayesianas para modelar relações probabilísticas entre variáveis financeiras.\n",
        "\n",
        "Modelagem de dependência entre variáveis:\n",
        "1. Covariância e correlação para medir a relação entre ativos (Ex: Ouro e dólar).\n",
        "2. Correlação de Spearman e Kendall melhor para relações não-lineares.\n",
        "3. Copulas Estatísticas para modelar dependências complexas entre variáveis financeiras.\n",
        "\n",
        "Distribuição estatística avançada:\n",
        "1. Distribuição de Pareto para modelar eventos extremos (crashes de mercado).\n",
        "2. Distribuição de Lévy para explicar retornos financeiros com caudas pesadas.\n",
        "3. Distribuição de Poisson para modelar frequência de eventos raros (ex: quedas bruscas).\n",
        "\n",
        "Teoria das filas e processos de chegada:\n",
        "1. Processo de Poisson não homogêneo para modelar eventos de chegadas irregulares, como ordens no mercado.\n",
        "2. Cadeis de Markov para previsão de estados futuros no mercado com base no estado atual.\n",
        "\n",
        "Estatística robusta e detecção de anomalias:\n",
        "1. Média ponderada e média robusta para reduzir impacto de outliers.\n",
        "2. Testes de Outliers (Z-score, IQR) para indentificar preços extremos.\n",
        "3. Hodrick-Prescott Filter para separar as tendências de curto e longo prazo.\n",
        "\n",
        "Teoria do Caos e Fractais:\n",
        "1. Dimensão fractal de Hust para medir a previsibilidade de séries temporais.\n",
        "2. Efeito borboleta para medir quanto pequenas variações podem causar grandes impactos.\n",
        "\n",
        "\n",
        "\n",
        "\n",
        "\n",
        "\n",
        "\n",
        "\n",
        "\n"
      ],
      "metadata": {
        "id": "PBsXTWhtqobn"
      }
    },
    {
      "cell_type": "markdown",
      "source": [
        "#Alguns critérios que julgo importante para análise dos dados"
      ],
      "metadata": {
        "id": "p723Hy-Z2nTp"
      }
    },
    {
      "cell_type": "markdown",
      "source": [
        "Analisando a coluna Last"
      ],
      "metadata": {
        "id": "FyFltLKZ37BA"
      }
    },
    {
      "cell_type": "code",
      "source": [
        "#Distribuição das frequências dos dados contidos no df_provisorio para análise das melhores opções de investimento\n",
        "distribuicao_da_frequencia_last = df_provisorio[df_provisorio['Last'] >= preco_medio_last].shape\n",
        "distribuicao_da_frequencia_last\n",
        "#Retornando 23 linhas"
      ],
      "metadata": {
        "id": "dYWM9DGt2qha"
      },
      "execution_count": null,
      "outputs": []
    },
    {
      "cell_type": "markdown",
      "source": [
        "Analisando a coluna Open"
      ],
      "metadata": {
        "id": "Br1KCQfh32yW"
      }
    },
    {
      "cell_type": "code",
      "source": [
        "#Distribuição das frequências dos dados contidos no df_provisorio para análise das melhores opções de investimento\n",
        "distribuicao_da_frequencia_open = df_provisorio[df_provisorio['Open'] <= preco_medio_open].shape\n",
        "distribuicao_da_frequencia_open\n",
        "#Retornando 33 linhas"
      ],
      "metadata": {
        "id": "JiS252LI4B7k"
      },
      "execution_count": null,
      "outputs": []
    },
    {
      "cell_type": "markdown",
      "source": [
        "Analisando a coluna Change"
      ],
      "metadata": {
        "id": "TUwlN1cN4Wu0"
      }
    },
    {
      "cell_type": "code",
      "source": [
        "#Distribuição das frequencias dos dados contidos no df_provisorio para análise da melhores opções de investimento\n",
        "distribuicao_da_frequencia_change = df_provisorio[df_provisorio['Change'] >= mudanca_media].shape\n",
        "distribuicao_da_frequencia_change\n",
        "#Retornando 31 linhas"
      ],
      "metadata": {
        "id": "WSfiMCn54aYA"
      },
      "execution_count": null,
      "outputs": []
    },
    {
      "cell_type": "markdown",
      "source": [
        "Criando um data frame que armazena os valores que foram analisados acima"
      ],
      "metadata": {
        "id": "w8oUCRnc4vYs"
      }
    },
    {
      "cell_type": "code",
      "source": [
        "#Criando um data frame que armazena as melhores opções de investimento\n",
        "df_melhores_opcoes = df_provisorio[\n",
        "    (df_provisorio['Last'] >= preco_medio_last) &\n",
        "    (df_provisorio['Open'] <= preco_medio_open) &\n",
        "    (df_provisorio['Change'] >= mudanca_media)\n",
        "]\n",
        "\n",
        "#Fazendo a contagem dos dados para distribuição do cálculo de frequência\n",
        "total_dados = df_provisorio.shape[0]\n",
        "\n",
        "#Fazendo a contagem dos dados que atendem a cada condição\n",
        "contagem_last = len(df_melhores_opcoes['Last'])\n",
        "contagem_open = len(df_melhores_opcoes['Open'])\n",
        "contagem_change = len(df_melhores_opcoes['Change'])\n",
        "\n",
        "#Fazendo o cálculo das porcentagens\n",
        "porcentagem_last = (contagem_last / total_dados) * 100\n",
        "porcentagem_open = (contagem_open / total_dados) * 100\n",
        "porcentagem_change = (contagem_change / total_dados) * 100\n",
        "\n",
        "#Exibindo os resultados criados acima\n",
        "print(f'Porcentagem de dados que atendem a condição que a coluna Last é maior que a média {porcentagem_last:.2f}')\n",
        "print(f'Porcentagem de dados que atendem a condição que a coluna Open é menor que a média {porcentagem_open:.2f}')\n",
        "print(f'Porcentagem de dados que atendem a condição que a coluna Change é maior que a média {porcentagem_change:.2f}')\n",
        "\n",
        "\"Percentual de dados extraídos de acordo com as condições, 3.64%\""
      ],
      "metadata": {
        "id": "gAg4o-n94y9l"
      },
      "execution_count": null,
      "outputs": []
    },
    {
      "cell_type": "markdown",
      "source": [
        "Alguns cálculos importantes"
      ],
      "metadata": {
        "id": "I15u8ooQ_USX"
      }
    },
    {
      "cell_type": "code",
      "source": [
        "#Cálculo do coeficiente de variação\n",
        "def coeficiente_variacao(df_provisorio):\n",
        "  desvio_last = df_provisorio['Last'].std()\n",
        "  media_last = df_provisorio['Last'].mean()\n",
        "  cv_last = (desvio_last / media_last) * 100\n",
        "\n",
        "  desvio_open = df_provisorio['Open'].std()\n",
        "  media_open = df_provisorio['Open'].mean()\n",
        "  cv_open = (desvio_open / media_open) * 100\n",
        "  print(f'O coeficiente de variação da coluna Last é {cv_last:.2f}')\n",
        "  print(f'O coeficiente de variação da coluna Open é {cv_open:.2f}')\n",
        "\n",
        "coeficiente_variacao(df_provisorio)\n",
        "\n",
        "\"\"\"\n",
        "O coeficiente de variação da coluna Last é 3.63\n",
        "O coeficiente de variação da coluna Open é 3.60\n",
        "\"\"\"\n",
        "\n",
        "def desvio_absoluto(df_provisorio):\n",
        "  desvio_last = sts.stdev(df_provisorio['Last'])\n",
        "  print(f'O desvio absoluto da coluna Last é {desvio_last:.2f}')\n",
        "  desvio_open = sts.stdev(df_provisorio['Open'])\n",
        "  print(f'O desvio absoluto da coluna Open é {desvio_open:.2f}')\n",
        "  desvio_change = sts.stdev(df_provisorio['Change'])\n",
        "  print(f'O desvio absoluto da coluna Change é {desvio_change:.2f}')\n",
        "\n",
        "desvio_absoluto(df_provisorio)\n",
        "\n",
        "\"\"\"\n",
        "O desvio absoluto da coluna Last é 99.12\n",
        "O desvio absoluto da coluna Open é 98.25\n",
        "O desvio absoluto da coluna Change é 0.90\n",
        "\"\"\""
      ],
      "metadata": {
        "id": "8CgxEKluALcz"
      },
      "execution_count": null,
      "outputs": []
    }
  ]
}