{
  "nbformat": 4,
  "nbformat_minor": 0,
  "metadata": {
    "colab": {
      "provenance": [],
      "authorship_tag": "ABX9TyO69pjswq5ASsxYXj7CD2vY",
      "include_colab_link": true
    },
    "kernelspec": {
      "name": "python3",
      "display_name": "Python 3"
    },
    "language_info": {
      "name": "python"
    }
  },
  "cells": [
    {
      "cell_type": "markdown",
      "metadata": {
        "id": "view-in-github",
        "colab_type": "text"
      },
      "source": [
        "<a href=\"https://colab.research.google.com/github/christiantommasi/MeuPortf-lioEmPythonER/blob/main/gold_apenas_didatica.ipynb\" target=\"_parent\"><img src=\"https://colab.research.google.com/assets/colab-badge.svg\" alt=\"Open In Colab\"/></a>"
      ]
    },
    {
      "cell_type": "markdown",
      "source": [
        "Importação das bibliotecas necessárias apara análise dos dados"
      ],
      "metadata": {
        "id": "pv2BhVt5tRtK"
      }
    },
    {
      "cell_type": "code",
      "execution_count": 1,
      "metadata": {
        "id": "l3DhDZuztIvQ"
      },
      "outputs": [],
      "source": [
        "import pandas as pd\n",
        "import numpy as np\n",
        "import statistics as sts\n",
        "import matplotlib.pyplot as plt\n",
        "import seaborn as sns"
      ]
    },
    {
      "cell_type": "markdown",
      "source": [
        "Importação do arquivo para criação do dataframe"
      ],
      "metadata": {
        "id": "PXSt2MQWtV6Z"
      }
    },
    {
      "cell_type": "code",
      "source": [
        "df = pd.read_excel(\"gold.xlsx\")"
      ],
      "metadata": {
        "id": "z8gWACo7tYYn"
      },
      "execution_count": 2,
      "outputs": []
    },
    {
      "cell_type": "markdown",
      "source": [
        "Visualização do data frame"
      ],
      "metadata": {
        "id": "jVfrMkuAuPr-"
      }
    },
    {
      "cell_type": "code",
      "source": [
        "#São 1320 linhas por 7 colunas\n",
        "df.tail()"
      ],
      "metadata": {
        "colab": {
          "base_uri": "https://localhost:8080/",
          "height": 206
        },
        "id": "83UXk6TZuRFE",
        "outputId": "96a98452-bb2e-41c8-96c1-4f84beca4096"
      },
      "execution_count": null,
      "outputs": [
        {
          "output_type": "execute_result",
          "data": {
            "text/plain": [
              "                     Date     Last     Open     High      Low  Change\n",
              "1315           2025-02-10  2910.06  2892.22  2910.22  2891.19    0.61\n",
              "1316  2025-02-11 00:00:00  2898.34  2907.47  2943.25  2881.75   -0.31\n",
              "1317  2025-02-12 00:00:00  2903.66  2898.90  2909.16  2864.01    0.18\n",
              "1318  2025-02-13 00:00:00  2929.03  2904.10  2929.74  2900.20    0.87\n",
              "1319  2025-02-14 00:00:00  2883.18  2929.19  2940.23  2876.96   -1.57"
            ],
            "text/html": [
              "\n",
              "  <div id=\"df-1f5a97e0-b289-40b2-903e-ae3d298866a8\" class=\"colab-df-container\">\n",
              "    <div>\n",
              "<style scoped>\n",
              "    .dataframe tbody tr th:only-of-type {\n",
              "        vertical-align: middle;\n",
              "    }\n",
              "\n",
              "    .dataframe tbody tr th {\n",
              "        vertical-align: top;\n",
              "    }\n",
              "\n",
              "    .dataframe thead th {\n",
              "        text-align: right;\n",
              "    }\n",
              "</style>\n",
              "<table border=\"1\" class=\"dataframe\">\n",
              "  <thead>\n",
              "    <tr style=\"text-align: right;\">\n",
              "      <th></th>\n",
              "      <th>Date</th>\n",
              "      <th>Last</th>\n",
              "      <th>Open</th>\n",
              "      <th>High</th>\n",
              "      <th>Low</th>\n",
              "      <th>Change</th>\n",
              "    </tr>\n",
              "  </thead>\n",
              "  <tbody>\n",
              "    <tr>\n",
              "      <th>1315</th>\n",
              "      <td>2025-02-10</td>\n",
              "      <td>2910.06</td>\n",
              "      <td>2892.22</td>\n",
              "      <td>2910.22</td>\n",
              "      <td>2891.19</td>\n",
              "      <td>0.61</td>\n",
              "    </tr>\n",
              "    <tr>\n",
              "      <th>1316</th>\n",
              "      <td>2025-02-11 00:00:00</td>\n",
              "      <td>2898.34</td>\n",
              "      <td>2907.47</td>\n",
              "      <td>2943.25</td>\n",
              "      <td>2881.75</td>\n",
              "      <td>-0.31</td>\n",
              "    </tr>\n",
              "    <tr>\n",
              "      <th>1317</th>\n",
              "      <td>2025-02-12 00:00:00</td>\n",
              "      <td>2903.66</td>\n",
              "      <td>2898.90</td>\n",
              "      <td>2909.16</td>\n",
              "      <td>2864.01</td>\n",
              "      <td>0.18</td>\n",
              "    </tr>\n",
              "    <tr>\n",
              "      <th>1318</th>\n",
              "      <td>2025-02-13 00:00:00</td>\n",
              "      <td>2929.03</td>\n",
              "      <td>2904.10</td>\n",
              "      <td>2929.74</td>\n",
              "      <td>2900.20</td>\n",
              "      <td>0.87</td>\n",
              "    </tr>\n",
              "    <tr>\n",
              "      <th>1319</th>\n",
              "      <td>2025-02-14 00:00:00</td>\n",
              "      <td>2883.18</td>\n",
              "      <td>2929.19</td>\n",
              "      <td>2940.23</td>\n",
              "      <td>2876.96</td>\n",
              "      <td>-1.57</td>\n",
              "    </tr>\n",
              "  </tbody>\n",
              "</table>\n",
              "</div>\n",
              "    <div class=\"colab-df-buttons\">\n",
              "\n",
              "  <div class=\"colab-df-container\">\n",
              "    <button class=\"colab-df-convert\" onclick=\"convertToInteractive('df-1f5a97e0-b289-40b2-903e-ae3d298866a8')\"\n",
              "            title=\"Convert this dataframe to an interactive table.\"\n",
              "            style=\"display:none;\">\n",
              "\n",
              "  <svg xmlns=\"http://www.w3.org/2000/svg\" height=\"24px\" viewBox=\"0 -960 960 960\">\n",
              "    <path d=\"M120-120v-720h720v720H120Zm60-500h600v-160H180v160Zm220 220h160v-160H400v160Zm0 220h160v-160H400v160ZM180-400h160v-160H180v160Zm440 0h160v-160H620v160ZM180-180h160v-160H180v160Zm440 0h160v-160H620v160Z\"/>\n",
              "  </svg>\n",
              "    </button>\n",
              "\n",
              "  <style>\n",
              "    .colab-df-container {\n",
              "      display:flex;\n",
              "      gap: 12px;\n",
              "    }\n",
              "\n",
              "    .colab-df-convert {\n",
              "      background-color: #E8F0FE;\n",
              "      border: none;\n",
              "      border-radius: 50%;\n",
              "      cursor: pointer;\n",
              "      display: none;\n",
              "      fill: #1967D2;\n",
              "      height: 32px;\n",
              "      padding: 0 0 0 0;\n",
              "      width: 32px;\n",
              "    }\n",
              "\n",
              "    .colab-df-convert:hover {\n",
              "      background-color: #E2EBFA;\n",
              "      box-shadow: 0px 1px 2px rgba(60, 64, 67, 0.3), 0px 1px 3px 1px rgba(60, 64, 67, 0.15);\n",
              "      fill: #174EA6;\n",
              "    }\n",
              "\n",
              "    .colab-df-buttons div {\n",
              "      margin-bottom: 4px;\n",
              "    }\n",
              "\n",
              "    [theme=dark] .colab-df-convert {\n",
              "      background-color: #3B4455;\n",
              "      fill: #D2E3FC;\n",
              "    }\n",
              "\n",
              "    [theme=dark] .colab-df-convert:hover {\n",
              "      background-color: #434B5C;\n",
              "      box-shadow: 0px 1px 3px 1px rgba(0, 0, 0, 0.15);\n",
              "      filter: drop-shadow(0px 1px 2px rgba(0, 0, 0, 0.3));\n",
              "      fill: #FFFFFF;\n",
              "    }\n",
              "  </style>\n",
              "\n",
              "    <script>\n",
              "      const buttonEl =\n",
              "        document.querySelector('#df-1f5a97e0-b289-40b2-903e-ae3d298866a8 button.colab-df-convert');\n",
              "      buttonEl.style.display =\n",
              "        google.colab.kernel.accessAllowed ? 'block' : 'none';\n",
              "\n",
              "      async function convertToInteractive(key) {\n",
              "        const element = document.querySelector('#df-1f5a97e0-b289-40b2-903e-ae3d298866a8');\n",
              "        const dataTable =\n",
              "          await google.colab.kernel.invokeFunction('convertToInteractive',\n",
              "                                                    [key], {});\n",
              "        if (!dataTable) return;\n",
              "\n",
              "        const docLinkHtml = 'Like what you see? Visit the ' +\n",
              "          '<a target=\"_blank\" href=https://colab.research.google.com/notebooks/data_table.ipynb>data table notebook</a>'\n",
              "          + ' to learn more about interactive tables.';\n",
              "        element.innerHTML = '';\n",
              "        dataTable['output_type'] = 'display_data';\n",
              "        await google.colab.output.renderOutput(dataTable, element);\n",
              "        const docLink = document.createElement('div');\n",
              "        docLink.innerHTML = docLinkHtml;\n",
              "        element.appendChild(docLink);\n",
              "      }\n",
              "    </script>\n",
              "  </div>\n",
              "\n",
              "\n",
              "<div id=\"df-e313e653-fa46-4cbd-a798-ac7abd89b007\">\n",
              "  <button class=\"colab-df-quickchart\" onclick=\"quickchart('df-e313e653-fa46-4cbd-a798-ac7abd89b007')\"\n",
              "            title=\"Suggest charts\"\n",
              "            style=\"display:none;\">\n",
              "\n",
              "<svg xmlns=\"http://www.w3.org/2000/svg\" height=\"24px\"viewBox=\"0 0 24 24\"\n",
              "     width=\"24px\">\n",
              "    <g>\n",
              "        <path d=\"M19 3H5c-1.1 0-2 .9-2 2v14c0 1.1.9 2 2 2h14c1.1 0 2-.9 2-2V5c0-1.1-.9-2-2-2zM9 17H7v-7h2v7zm4 0h-2V7h2v10zm4 0h-2v-4h2v4z\"/>\n",
              "    </g>\n",
              "</svg>\n",
              "  </button>\n",
              "\n",
              "<style>\n",
              "  .colab-df-quickchart {\n",
              "      --bg-color: #E8F0FE;\n",
              "      --fill-color: #1967D2;\n",
              "      --hover-bg-color: #E2EBFA;\n",
              "      --hover-fill-color: #174EA6;\n",
              "      --disabled-fill-color: #AAA;\n",
              "      --disabled-bg-color: #DDD;\n",
              "  }\n",
              "\n",
              "  [theme=dark] .colab-df-quickchart {\n",
              "      --bg-color: #3B4455;\n",
              "      --fill-color: #D2E3FC;\n",
              "      --hover-bg-color: #434B5C;\n",
              "      --hover-fill-color: #FFFFFF;\n",
              "      --disabled-bg-color: #3B4455;\n",
              "      --disabled-fill-color: #666;\n",
              "  }\n",
              "\n",
              "  .colab-df-quickchart {\n",
              "    background-color: var(--bg-color);\n",
              "    border: none;\n",
              "    border-radius: 50%;\n",
              "    cursor: pointer;\n",
              "    display: none;\n",
              "    fill: var(--fill-color);\n",
              "    height: 32px;\n",
              "    padding: 0;\n",
              "    width: 32px;\n",
              "  }\n",
              "\n",
              "  .colab-df-quickchart:hover {\n",
              "    background-color: var(--hover-bg-color);\n",
              "    box-shadow: 0 1px 2px rgba(60, 64, 67, 0.3), 0 1px 3px 1px rgba(60, 64, 67, 0.15);\n",
              "    fill: var(--button-hover-fill-color);\n",
              "  }\n",
              "\n",
              "  .colab-df-quickchart-complete:disabled,\n",
              "  .colab-df-quickchart-complete:disabled:hover {\n",
              "    background-color: var(--disabled-bg-color);\n",
              "    fill: var(--disabled-fill-color);\n",
              "    box-shadow: none;\n",
              "  }\n",
              "\n",
              "  .colab-df-spinner {\n",
              "    border: 2px solid var(--fill-color);\n",
              "    border-color: transparent;\n",
              "    border-bottom-color: var(--fill-color);\n",
              "    animation:\n",
              "      spin 1s steps(1) infinite;\n",
              "  }\n",
              "\n",
              "  @keyframes spin {\n",
              "    0% {\n",
              "      border-color: transparent;\n",
              "      border-bottom-color: var(--fill-color);\n",
              "      border-left-color: var(--fill-color);\n",
              "    }\n",
              "    20% {\n",
              "      border-color: transparent;\n",
              "      border-left-color: var(--fill-color);\n",
              "      border-top-color: var(--fill-color);\n",
              "    }\n",
              "    30% {\n",
              "      border-color: transparent;\n",
              "      border-left-color: var(--fill-color);\n",
              "      border-top-color: var(--fill-color);\n",
              "      border-right-color: var(--fill-color);\n",
              "    }\n",
              "    40% {\n",
              "      border-color: transparent;\n",
              "      border-right-color: var(--fill-color);\n",
              "      border-top-color: var(--fill-color);\n",
              "    }\n",
              "    60% {\n",
              "      border-color: transparent;\n",
              "      border-right-color: var(--fill-color);\n",
              "    }\n",
              "    80% {\n",
              "      border-color: transparent;\n",
              "      border-right-color: var(--fill-color);\n",
              "      border-bottom-color: var(--fill-color);\n",
              "    }\n",
              "    90% {\n",
              "      border-color: transparent;\n",
              "      border-bottom-color: var(--fill-color);\n",
              "    }\n",
              "  }\n",
              "</style>\n",
              "\n",
              "  <script>\n",
              "    async function quickchart(key) {\n",
              "      const quickchartButtonEl =\n",
              "        document.querySelector('#' + key + ' button');\n",
              "      quickchartButtonEl.disabled = true;  // To prevent multiple clicks.\n",
              "      quickchartButtonEl.classList.add('colab-df-spinner');\n",
              "      try {\n",
              "        const charts = await google.colab.kernel.invokeFunction(\n",
              "            'suggestCharts', [key], {});\n",
              "      } catch (error) {\n",
              "        console.error('Error during call to suggestCharts:', error);\n",
              "      }\n",
              "      quickchartButtonEl.classList.remove('colab-df-spinner');\n",
              "      quickchartButtonEl.classList.add('colab-df-quickchart-complete');\n",
              "    }\n",
              "    (() => {\n",
              "      let quickchartButtonEl =\n",
              "        document.querySelector('#df-e313e653-fa46-4cbd-a798-ac7abd89b007 button');\n",
              "      quickchartButtonEl.style.display =\n",
              "        google.colab.kernel.accessAllowed ? 'block' : 'none';\n",
              "    })();\n",
              "  </script>\n",
              "</div>\n",
              "\n",
              "    </div>\n",
              "  </div>\n"
            ],
            "application/vnd.google.colaboratory.intrinsic+json": {
              "type": "dataframe",
              "repr_error": "0"
            }
          },
          "metadata": {},
          "execution_count": 9
        }
      ]
    },
    {
      "cell_type": "markdown",
      "source": [
        "Verificando o tipo de dados no data frame"
      ],
      "metadata": {
        "id": "rR65MvcsvqO4"
      }
    },
    {
      "cell_type": "code",
      "source": [
        "print(df.dtypes)"
      ],
      "metadata": {
        "id": "Uuz-KDGRvtVj"
      },
      "execution_count": null,
      "outputs": []
    },
    {
      "cell_type": "markdown",
      "source": [
        "Convertendo a coluna Date para datetime"
      ],
      "metadata": {
        "id": "V3NFAiWBwVnQ"
      }
    },
    {
      "cell_type": "code",
      "source": [
        "#Código que converte a coluna Date para date time\n",
        "df['Date'] = pd.to_datetime(df['Date'])\n",
        "\n",
        "#Código que verifica o  tipo da coluna Date novamente\n",
        "print(df['Date'].dtypes)"
      ],
      "metadata": {
        "id": "GE2IJMrUwX9u"
      },
      "execution_count": null,
      "outputs": []
    },
    {
      "cell_type": "markdown",
      "source": [
        "Verificando o tipo de dados completo do data frame"
      ],
      "metadata": {
        "id": "pqe0yzGsw9hU"
      }
    },
    {
      "cell_type": "code",
      "source": [
        "print(df.dtypes)"
      ],
      "metadata": {
        "colab": {
          "base_uri": "https://localhost:8080/"
        },
        "id": "0x70nfc4w_vO",
        "outputId": "f4869c1a-8adc-48f1-8f90-070b1d8a9912"
      },
      "execution_count": 4,
      "outputs": [
        {
          "output_type": "stream",
          "name": "stdout",
          "text": [
            "Date      datetime64[ns]\n",
            "Last             float64\n",
            "Open             float64\n",
            "High             float64\n",
            "Low              float64\n",
            "Change           float64\n",
            "dtype: object\n"
          ]
        }
      ]
    },
    {
      "cell_type": "markdown",
      "source": [
        "Verificando se existem valores NANs"
      ],
      "metadata": {
        "id": "KzAcwbGVxSrj"
      }
    },
    {
      "cell_type": "code",
      "source": [
        "df.isna().sum()\n",
        "#Não existem dados NANs"
      ],
      "metadata": {
        "id": "LP1z2D1rxVCJ"
      },
      "execution_count": null,
      "outputs": []
    },
    {
      "cell_type": "markdown",
      "source": [
        "Verificação estatística dos dados"
      ],
      "metadata": {
        "id": "ulFj9lFwxb0a"
      }
    },
    {
      "cell_type": "code",
      "source": [
        "df.describe()"
      ],
      "metadata": {
        "colab": {
          "base_uri": "https://localhost:8080/",
          "height": 300
        },
        "id": "QeYxYbPdxf4q",
        "outputId": "4f43db8e-f39a-42f4-fcbf-a281e60af84c"
      },
      "execution_count": 6,
      "outputs": [
        {
          "output_type": "execute_result",
          "data": {
            "text/plain": [
              "                                Date         Last         Open         High  \\\n",
              "count                           1320  1320.000000  1320.000000  1320.000000   \n",
              "mean   2022-07-24 04:03:16.363636224  1963.347470  1963.362864  1977.499121   \n",
              "min              2020-01-03 00:00:00  1477.900000  1471.600000  1502.800000   \n",
              "25%              2021-04-14 18:00:00  1782.450000  1784.000000  1795.425000   \n",
              "50%              2022-07-23 12:00:00  1876.600000  1877.800000  1891.650000   \n",
              "75%              2023-11-01 06:00:00  2005.825000  2007.000000  2023.425000   \n",
              "max              2025-02-14 00:00:00  2929.030000  2929.190000  2943.250000   \n",
              "std                              NaN   293.878464   293.070596   294.913516   \n",
              "\n",
              "               Low       Change  \n",
              "count  1320.000000  1320.000000  \n",
              "mean   1948.917545     0.053386  \n",
              "min    1450.900000    -4.990000  \n",
              "25%    1772.500000    -0.440000  \n",
              "50%    1864.650000     0.060000  \n",
              "75%    1992.875000     0.610000  \n",
              "max    2900.200000     5.950000  \n",
              "std     292.030647     1.015575  "
            ],
            "text/html": [
              "\n",
              "  <div id=\"df-fe1ac877-4b76-46a5-a1fc-ff2cf61c93f9\" class=\"colab-df-container\">\n",
              "    <div>\n",
              "<style scoped>\n",
              "    .dataframe tbody tr th:only-of-type {\n",
              "        vertical-align: middle;\n",
              "    }\n",
              "\n",
              "    .dataframe tbody tr th {\n",
              "        vertical-align: top;\n",
              "    }\n",
              "\n",
              "    .dataframe thead th {\n",
              "        text-align: right;\n",
              "    }\n",
              "</style>\n",
              "<table border=\"1\" class=\"dataframe\">\n",
              "  <thead>\n",
              "    <tr style=\"text-align: right;\">\n",
              "      <th></th>\n",
              "      <th>Date</th>\n",
              "      <th>Last</th>\n",
              "      <th>Open</th>\n",
              "      <th>High</th>\n",
              "      <th>Low</th>\n",
              "      <th>Change</th>\n",
              "    </tr>\n",
              "  </thead>\n",
              "  <tbody>\n",
              "    <tr>\n",
              "      <th>count</th>\n",
              "      <td>1320</td>\n",
              "      <td>1320.000000</td>\n",
              "      <td>1320.000000</td>\n",
              "      <td>1320.000000</td>\n",
              "      <td>1320.000000</td>\n",
              "      <td>1320.000000</td>\n",
              "    </tr>\n",
              "    <tr>\n",
              "      <th>mean</th>\n",
              "      <td>2022-07-24 04:03:16.363636224</td>\n",
              "      <td>1963.347470</td>\n",
              "      <td>1963.362864</td>\n",
              "      <td>1977.499121</td>\n",
              "      <td>1948.917545</td>\n",
              "      <td>0.053386</td>\n",
              "    </tr>\n",
              "    <tr>\n",
              "      <th>min</th>\n",
              "      <td>2020-01-03 00:00:00</td>\n",
              "      <td>1477.900000</td>\n",
              "      <td>1471.600000</td>\n",
              "      <td>1502.800000</td>\n",
              "      <td>1450.900000</td>\n",
              "      <td>-4.990000</td>\n",
              "    </tr>\n",
              "    <tr>\n",
              "      <th>25%</th>\n",
              "      <td>2021-04-14 18:00:00</td>\n",
              "      <td>1782.450000</td>\n",
              "      <td>1784.000000</td>\n",
              "      <td>1795.425000</td>\n",
              "      <td>1772.500000</td>\n",
              "      <td>-0.440000</td>\n",
              "    </tr>\n",
              "    <tr>\n",
              "      <th>50%</th>\n",
              "      <td>2022-07-23 12:00:00</td>\n",
              "      <td>1876.600000</td>\n",
              "      <td>1877.800000</td>\n",
              "      <td>1891.650000</td>\n",
              "      <td>1864.650000</td>\n",
              "      <td>0.060000</td>\n",
              "    </tr>\n",
              "    <tr>\n",
              "      <th>75%</th>\n",
              "      <td>2023-11-01 06:00:00</td>\n",
              "      <td>2005.825000</td>\n",
              "      <td>2007.000000</td>\n",
              "      <td>2023.425000</td>\n",
              "      <td>1992.875000</td>\n",
              "      <td>0.610000</td>\n",
              "    </tr>\n",
              "    <tr>\n",
              "      <th>max</th>\n",
              "      <td>2025-02-14 00:00:00</td>\n",
              "      <td>2929.030000</td>\n",
              "      <td>2929.190000</td>\n",
              "      <td>2943.250000</td>\n",
              "      <td>2900.200000</td>\n",
              "      <td>5.950000</td>\n",
              "    </tr>\n",
              "    <tr>\n",
              "      <th>std</th>\n",
              "      <td>NaN</td>\n",
              "      <td>293.878464</td>\n",
              "      <td>293.070596</td>\n",
              "      <td>294.913516</td>\n",
              "      <td>292.030647</td>\n",
              "      <td>1.015575</td>\n",
              "    </tr>\n",
              "  </tbody>\n",
              "</table>\n",
              "</div>\n",
              "    <div class=\"colab-df-buttons\">\n",
              "\n",
              "  <div class=\"colab-df-container\">\n",
              "    <button class=\"colab-df-convert\" onclick=\"convertToInteractive('df-fe1ac877-4b76-46a5-a1fc-ff2cf61c93f9')\"\n",
              "            title=\"Convert this dataframe to an interactive table.\"\n",
              "            style=\"display:none;\">\n",
              "\n",
              "  <svg xmlns=\"http://www.w3.org/2000/svg\" height=\"24px\" viewBox=\"0 -960 960 960\">\n",
              "    <path d=\"M120-120v-720h720v720H120Zm60-500h600v-160H180v160Zm220 220h160v-160H400v160Zm0 220h160v-160H400v160ZM180-400h160v-160H180v160Zm440 0h160v-160H620v160ZM180-180h160v-160H180v160Zm440 0h160v-160H620v160Z\"/>\n",
              "  </svg>\n",
              "    </button>\n",
              "\n",
              "  <style>\n",
              "    .colab-df-container {\n",
              "      display:flex;\n",
              "      gap: 12px;\n",
              "    }\n",
              "\n",
              "    .colab-df-convert {\n",
              "      background-color: #E8F0FE;\n",
              "      border: none;\n",
              "      border-radius: 50%;\n",
              "      cursor: pointer;\n",
              "      display: none;\n",
              "      fill: #1967D2;\n",
              "      height: 32px;\n",
              "      padding: 0 0 0 0;\n",
              "      width: 32px;\n",
              "    }\n",
              "\n",
              "    .colab-df-convert:hover {\n",
              "      background-color: #E2EBFA;\n",
              "      box-shadow: 0px 1px 2px rgba(60, 64, 67, 0.3), 0px 1px 3px 1px rgba(60, 64, 67, 0.15);\n",
              "      fill: #174EA6;\n",
              "    }\n",
              "\n",
              "    .colab-df-buttons div {\n",
              "      margin-bottom: 4px;\n",
              "    }\n",
              "\n",
              "    [theme=dark] .colab-df-convert {\n",
              "      background-color: #3B4455;\n",
              "      fill: #D2E3FC;\n",
              "    }\n",
              "\n",
              "    [theme=dark] .colab-df-convert:hover {\n",
              "      background-color: #434B5C;\n",
              "      box-shadow: 0px 1px 3px 1px rgba(0, 0, 0, 0.15);\n",
              "      filter: drop-shadow(0px 1px 2px rgba(0, 0, 0, 0.3));\n",
              "      fill: #FFFFFF;\n",
              "    }\n",
              "  </style>\n",
              "\n",
              "    <script>\n",
              "      const buttonEl =\n",
              "        document.querySelector('#df-fe1ac877-4b76-46a5-a1fc-ff2cf61c93f9 button.colab-df-convert');\n",
              "      buttonEl.style.display =\n",
              "        google.colab.kernel.accessAllowed ? 'block' : 'none';\n",
              "\n",
              "      async function convertToInteractive(key) {\n",
              "        const element = document.querySelector('#df-fe1ac877-4b76-46a5-a1fc-ff2cf61c93f9');\n",
              "        const dataTable =\n",
              "          await google.colab.kernel.invokeFunction('convertToInteractive',\n",
              "                                                    [key], {});\n",
              "        if (!dataTable) return;\n",
              "\n",
              "        const docLinkHtml = 'Like what you see? Visit the ' +\n",
              "          '<a target=\"_blank\" href=https://colab.research.google.com/notebooks/data_table.ipynb>data table notebook</a>'\n",
              "          + ' to learn more about interactive tables.';\n",
              "        element.innerHTML = '';\n",
              "        dataTable['output_type'] = 'display_data';\n",
              "        await google.colab.output.renderOutput(dataTable, element);\n",
              "        const docLink = document.createElement('div');\n",
              "        docLink.innerHTML = docLinkHtml;\n",
              "        element.appendChild(docLink);\n",
              "      }\n",
              "    </script>\n",
              "  </div>\n",
              "\n",
              "\n",
              "<div id=\"df-2ae7e757-6b92-4796-a5ea-0e02d075a61d\">\n",
              "  <button class=\"colab-df-quickchart\" onclick=\"quickchart('df-2ae7e757-6b92-4796-a5ea-0e02d075a61d')\"\n",
              "            title=\"Suggest charts\"\n",
              "            style=\"display:none;\">\n",
              "\n",
              "<svg xmlns=\"http://www.w3.org/2000/svg\" height=\"24px\"viewBox=\"0 0 24 24\"\n",
              "     width=\"24px\">\n",
              "    <g>\n",
              "        <path d=\"M19 3H5c-1.1 0-2 .9-2 2v14c0 1.1.9 2 2 2h14c1.1 0 2-.9 2-2V5c0-1.1-.9-2-2-2zM9 17H7v-7h2v7zm4 0h-2V7h2v10zm4 0h-2v-4h2v4z\"/>\n",
              "    </g>\n",
              "</svg>\n",
              "  </button>\n",
              "\n",
              "<style>\n",
              "  .colab-df-quickchart {\n",
              "      --bg-color: #E8F0FE;\n",
              "      --fill-color: #1967D2;\n",
              "      --hover-bg-color: #E2EBFA;\n",
              "      --hover-fill-color: #174EA6;\n",
              "      --disabled-fill-color: #AAA;\n",
              "      --disabled-bg-color: #DDD;\n",
              "  }\n",
              "\n",
              "  [theme=dark] .colab-df-quickchart {\n",
              "      --bg-color: #3B4455;\n",
              "      --fill-color: #D2E3FC;\n",
              "      --hover-bg-color: #434B5C;\n",
              "      --hover-fill-color: #FFFFFF;\n",
              "      --disabled-bg-color: #3B4455;\n",
              "      --disabled-fill-color: #666;\n",
              "  }\n",
              "\n",
              "  .colab-df-quickchart {\n",
              "    background-color: var(--bg-color);\n",
              "    border: none;\n",
              "    border-radius: 50%;\n",
              "    cursor: pointer;\n",
              "    display: none;\n",
              "    fill: var(--fill-color);\n",
              "    height: 32px;\n",
              "    padding: 0;\n",
              "    width: 32px;\n",
              "  }\n",
              "\n",
              "  .colab-df-quickchart:hover {\n",
              "    background-color: var(--hover-bg-color);\n",
              "    box-shadow: 0 1px 2px rgba(60, 64, 67, 0.3), 0 1px 3px 1px rgba(60, 64, 67, 0.15);\n",
              "    fill: var(--button-hover-fill-color);\n",
              "  }\n",
              "\n",
              "  .colab-df-quickchart-complete:disabled,\n",
              "  .colab-df-quickchart-complete:disabled:hover {\n",
              "    background-color: var(--disabled-bg-color);\n",
              "    fill: var(--disabled-fill-color);\n",
              "    box-shadow: none;\n",
              "  }\n",
              "\n",
              "  .colab-df-spinner {\n",
              "    border: 2px solid var(--fill-color);\n",
              "    border-color: transparent;\n",
              "    border-bottom-color: var(--fill-color);\n",
              "    animation:\n",
              "      spin 1s steps(1) infinite;\n",
              "  }\n",
              "\n",
              "  @keyframes spin {\n",
              "    0% {\n",
              "      border-color: transparent;\n",
              "      border-bottom-color: var(--fill-color);\n",
              "      border-left-color: var(--fill-color);\n",
              "    }\n",
              "    20% {\n",
              "      border-color: transparent;\n",
              "      border-left-color: var(--fill-color);\n",
              "      border-top-color: var(--fill-color);\n",
              "    }\n",
              "    30% {\n",
              "      border-color: transparent;\n",
              "      border-left-color: var(--fill-color);\n",
              "      border-top-color: var(--fill-color);\n",
              "      border-right-color: var(--fill-color);\n",
              "    }\n",
              "    40% {\n",
              "      border-color: transparent;\n",
              "      border-right-color: var(--fill-color);\n",
              "      border-top-color: var(--fill-color);\n",
              "    }\n",
              "    60% {\n",
              "      border-color: transparent;\n",
              "      border-right-color: var(--fill-color);\n",
              "    }\n",
              "    80% {\n",
              "      border-color: transparent;\n",
              "      border-right-color: var(--fill-color);\n",
              "      border-bottom-color: var(--fill-color);\n",
              "    }\n",
              "    90% {\n",
              "      border-color: transparent;\n",
              "      border-bottom-color: var(--fill-color);\n",
              "    }\n",
              "  }\n",
              "</style>\n",
              "\n",
              "  <script>\n",
              "    async function quickchart(key) {\n",
              "      const quickchartButtonEl =\n",
              "        document.querySelector('#' + key + ' button');\n",
              "      quickchartButtonEl.disabled = true;  // To prevent multiple clicks.\n",
              "      quickchartButtonEl.classList.add('colab-df-spinner');\n",
              "      try {\n",
              "        const charts = await google.colab.kernel.invokeFunction(\n",
              "            'suggestCharts', [key], {});\n",
              "      } catch (error) {\n",
              "        console.error('Error during call to suggestCharts:', error);\n",
              "      }\n",
              "      quickchartButtonEl.classList.remove('colab-df-spinner');\n",
              "      quickchartButtonEl.classList.add('colab-df-quickchart-complete');\n",
              "    }\n",
              "    (() => {\n",
              "      let quickchartButtonEl =\n",
              "        document.querySelector('#df-2ae7e757-6b92-4796-a5ea-0e02d075a61d button');\n",
              "      quickchartButtonEl.style.display =\n",
              "        google.colab.kernel.accessAllowed ? 'block' : 'none';\n",
              "    })();\n",
              "  </script>\n",
              "</div>\n",
              "\n",
              "    </div>\n",
              "  </div>\n"
            ],
            "application/vnd.google.colaboratory.intrinsic+json": {
              "type": "dataframe",
              "summary": "{\n  \"name\": \"df\",\n  \"rows\": 8,\n  \"fields\": [\n    {\n      \"column\": \"Date\",\n      \"properties\": {\n        \"dtype\": \"date\",\n        \"min\": \"1970-01-01 00:00:00.000001320\",\n        \"max\": \"2025-02-14 00:00:00\",\n        \"num_unique_values\": 7,\n        \"samples\": [\n          \"1320\",\n          \"2022-07-24 04:03:16.363636224\",\n          \"2023-11-01 06:00:00\"\n        ],\n        \"semantic_type\": \"\",\n        \"description\": \"\"\n      }\n    },\n    {\n      \"column\": \"Last\",\n      \"properties\": {\n        \"dtype\": \"number\",\n        \"std\": 744.6942616819222,\n        \"min\": 293.8784640327542,\n        \"max\": 2929.03,\n        \"num_unique_values\": 8,\n        \"samples\": [\n          1963.3474696969697,\n          2005.8249999999998,\n          1320.0\n        ],\n        \"semantic_type\": \"\",\n        \"description\": \"\"\n      }\n    },\n    {\n      \"column\": \"Open\",\n      \"properties\": {\n        \"dtype\": \"number\",\n        \"std\": 745.3607018772,\n        \"min\": 293.0705962505245,\n        \"max\": 2929.19,\n        \"num_unique_values\": 8,\n        \"samples\": [\n          1963.3628636363633,\n          2007.0,\n          1320.0\n        ],\n        \"semantic_type\": \"\",\n        \"description\": \"\"\n      }\n    },\n    {\n      \"column\": \"High\",\n      \"properties\": {\n        \"dtype\": \"number\",\n        \"std\": 749.0849507190894,\n        \"min\": 294.91351560511106,\n        \"max\": 2943.25,\n        \"num_unique_values\": 8,\n        \"samples\": [\n          1977.499121212121,\n          2023.425,\n          1320.0\n        ],\n        \"semantic_type\": \"\",\n        \"description\": \"\"\n      }\n    },\n    {\n      \"column\": \"Low\",\n      \"properties\": {\n        \"dtype\": \"number\",\n        \"std\": 737.6594930116748,\n        \"min\": 292.0306465561647,\n        \"max\": 2900.2,\n        \"num_unique_values\": 8,\n        \"samples\": [\n          1948.9175454545455,\n          1992.875,\n          1320.0\n        ],\n        \"semantic_type\": \"\",\n        \"description\": \"\"\n      }\n    },\n    {\n      \"column\": \"Change\",\n      \"properties\": {\n        \"dtype\": \"number\",\n        \"std\": 466.5857463777456,\n        \"min\": -4.99,\n        \"max\": 1320.0,\n        \"num_unique_values\": 8,\n        \"samples\": [\n          0.053386363636363635,\n          0.61,\n          1320.0\n        ],\n        \"semantic_type\": \"\",\n        \"description\": \"\"\n      }\n    }\n  ]\n}"
            }
          },
          "metadata": {},
          "execution_count": 6
        }
      ]
    },
    {
      "cell_type": "markdown",
      "source": [
        "#Relação de retornos sobre as colunas"
      ],
      "metadata": {
        "id": "8WLVllB8xtul"
      }
    },
    {
      "cell_type": "markdown",
      "source": [
        "Coluna Open em relação a mediana e a média"
      ],
      "metadata": {
        "id": "FBoczvIMzPAV"
      }
    },
    {
      "cell_type": "code",
      "source": [
        "#Criando um data frame que armazena os últimos 55 valores do ouro\n",
        "df_provisorio = df.tail(55)\n",
        "\n",
        "#Visualizando as informações descritivas do df_provisorio\n",
        "descricoes_estatisticas = df_provisorio.describe()\n",
        "\n",
        "#descricoes_estatisticas\n",
        "\n",
        "#Criando a variável que armazena o preço médio do ouro nos últimos 55 dias de pregão\n",
        "preco_medio_open = df_provisorio['Open'].mean()\n",
        "preco_medio_last = df_provisorio['Last'].mean()\n",
        "\n",
        "#Criando a variável que armazena os valores do preço mínimo e máximo de Open e Last dos últimos 55 dias de pregão\n",
        "preco_min_open = df_provisorio['Open'].min()\n",
        "preco_max_open = df_provisorio['Open'].max()\n",
        "preco_min_last = df_provisorio['Last'].min()\n",
        "preco_max_last = df_provisorio['Last'].max()\n",
        "\n",
        "#Mudança diária média e o desvio padrão da coluna Change\n",
        "mudanca_media = df_provisorio['Change'].mean()\n",
        "mudanca_desvio = df_provisorio['Change'].std()\n",
        "\n",
        "#Valores extremos de mudança diária\n",
        "mudanca_min = df_provisorio['Change'].min()\n",
        "mudanca_max = df_provisorio['Change'].max()\n",
        "\n",
        "#Calculando o preço médio entre Open e Last\n",
        "media_open_last = (preco_medio_open + preco_medio_last) / 2\n",
        "\n",
        "#Visualizando os resultados obtidos pelas variáveis\n",
        "print(f'Esse é o preço médio da coluna Open {preco_medio_open:.2f}')\n",
        "print(f'Esse é o preço médio da coluna Last {preco_medio_last:.2f}')\n",
        "print(f'Esse é o preço mínimo da coluna Open {preco_min_open:.2f}')\n",
        "print(f'Esse é o preço máximo da coluna Open {preco_max_open:.2f}')\n",
        "print(f'Esse é o preço mínimo da coluna Last {preco_min_last:.2f}')\n",
        "print(f'Esse é o preço máximo da coluna Last {preco_max_last:.2f}')\n",
        "print(f'Essa é a mudança diária média da coluna Change {mudanca_media:.2f}')\n",
        "print(f'Esse é o desvio padrão da coluna Change {mudanca_desvio:.2f}')\n",
        "print(f'Essa é a menor variação da coluna Change {mudanca_min:.2f}')\n",
        "print(f'Essa é a maior variação da coluna Change {mudanca_max:.2f}')\n",
        "print(f'Esse é o preço médio entre Open e Last {media_open_last:.2f}')"
      ],
      "metadata": {
        "id": "efKlG8vwzRmV"
      },
      "execution_count": null,
      "outputs": []
    },
    {
      "cell_type": "markdown",
      "source": [
        "#Analisando de forma gráfica os últimos 55 registros de pregão do ouro"
      ],
      "metadata": {
        "id": "6YHcN7S3HH6X"
      }
    },
    {
      "cell_type": "markdown",
      "source": [
        "Criando um gráfico da coluna Last"
      ],
      "metadata": {
        "id": "PoZiGNlPHMxn"
      }
    },
    {
      "cell_type": "code",
      "source": [
        "plt.figure(figsize=(12, 6))\n",
        "plt.plot(df_provisorio['Date'], df_provisorio['Last'], label='Preço de fechamento', color='gray')\n",
        "plt.xlabel('Diário')\n",
        "plt.ylabel('Preço do ouro (USD)')\n",
        "plt.title('Preço de fechamento do Ouro - 55 últimos pregões')\n",
        "plt.legend()\n",
        "plt.grid(True)\n",
        "plt.show()"
      ],
      "metadata": {
        "colab": {
          "base_uri": "https://localhost:8080/",
          "height": 565
        },
        "id": "bGILJhPvHMIe",
        "outputId": "1604e88f-d4f1-4aba-f1c9-1362486039f9"
      },
      "execution_count": 42,
      "outputs": [
        {
          "output_type": "display_data",
          "data": {
            "text/plain": [
              "<Figure size 1200x600 with 1 Axes>"
            ],
            "image/png": "[encoded data removed]"
          },
          "metadata": {}
        }
      ]
    },
    {
      "cell_type": "markdown",
      "source": [
        "Criando um gráfico boxplot"
      ],
      "metadata": {
        "id": "4TvRbAyeIgDC"
      }
    },
    {
      "cell_type": "code",
      "source": [
        "plt.figure(figsize=(12, 6))\n",
        "sns.boxplot(x=df_provisorio['Last'], color='gray')\n",
        "plt.xlabel('Preço de fechamento do ouro (USD)')\n",
        "plt.title('Boxplot do preço de fechamento do ouro')\n",
        "plt.grid(True)\n",
        "plt.show()"
      ],
      "metadata": {
        "colab": {
          "base_uri": "https://localhost:8080/",
          "height": 564
        },
        "id": "JoxCxqJyIhj5",
        "outputId": "58e7b957-d25a-4b43-986a-96b046a2d5b5"
      },
      "execution_count": 43,
      "outputs": [
        {
          "output_type": "display_data",
          "data": {
            "text/plain": [
              "<Figure size 1200x600 with 1 Axes>"
            ],
            "image/png": "[encoded data removed]"
          },
          "metadata": {}
        }
      ]
    }
  ]
}